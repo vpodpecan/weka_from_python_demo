{
 "cells": [
  {
   "cell_type": "code",
   "execution_count": 1,
   "id": "72a81ded-b646-48b8-9cc9-4cc6d409f6ea",
   "metadata": {},
   "outputs": [
    {
     "name": "stdout",
     "output_type": "stream",
     "text": [
      "Requirement already satisfied: jpype1 in ./env/lib/python3.8/site-packages (1.3.0)\n"
     ]
    }
   ],
   "source": [
    "!pip install jpype1\n",
    "import jpype as jp\n",
    "import jpype.imports\n",
    "\n",
    "jp.startJVM(classpath = ['weka/*'])  # launch JVM with custom classpath\n",
    "\n",
    "# import java stuff for tree visualization\n",
    "from java.io import File\n",
    "from java.awt import BorderLayout, Color\n",
    "from java.awt.image import BufferedImage\n",
    "from javax.swing import JFrame\n",
    "from javax.imageio import ImageIO\n",
    "\n",
    "def visualize_J48_tree(j48_model, width=500, height=400, title='J48 tree'):\n",
    "    jf = JFrame(title)\n",
    "    jf.setSize(width, height);\n",
    "    jf.getContentPane().setLayout(BorderLayout())\n",
    "    tv = jp.JClass('weka.gui.treevisualizer.TreeVisualizer')(None, j48.graph(), jp.JClass('weka.gui.treevisualizer.PlaceNode2')())\n",
    "    tv.setBackground(Color.white)\n",
    "    content = jf.getContentPane().add(tv, BorderLayout.CENTER);\n",
    "    jf.setVisible(True)\n",
    "    tv.fitToScreen()"
   ]
  },
  {
   "cell_type": "markdown",
   "id": "b12b9469-84d4-4018-8e85-f658510fec6d",
   "metadata": {},
   "source": [
    "## Simplest use case: build J48 tree and visualize"
   ]
  },
  {
   "cell_type": "code",
   "execution_count": 2,
   "id": "0777b430-e286-4a51-a487-37f8799d5ed5",
   "metadata": {},
   "outputs": [
    {
     "name": "stdout",
     "output_type": "stream",
     "text": [
      "J48 pruned tree\n",
      "------------------\n",
      "\n",
      "petalwidth <= 0.6: Iris-setosa (50.0)\n",
      "petalwidth > 0.6\n",
      "|   petalwidth <= 1.7\n",
      "|   |   petallength <= 4.9: Iris-versicolor (48.0/1.0)\n",
      "|   |   petallength > 4.9\n",
      "|   |   |   petalwidth <= 1.5: Iris-virginica (3.0)\n",
      "|   |   |   petalwidth > 1.5: Iris-versicolor (3.0/1.0)\n",
      "|   petalwidth > 1.7: Iris-virginica (46.0/1.0)\n",
      "\n",
      "Number of Leaves  : \t5\n",
      "\n",
      "Size of the tree : \t9\n",
      "\n"
     ]
    }
   ],
   "source": [
    "# load data from ARFF\n",
    "# source = jp.JClass('weka.core.converters.ConverterUtils$DataSource')('weka/data/iris.arff')\n",
    "# instances = source.getDataSet()\n",
    "\n",
    "# or load from CSV\n",
    "csv_loader = jp.JClass('weka.core.converters.CSVLoader')()\n",
    "csv_loader.setSource(File('weka/data/iris.csv'))\n",
    "instances = csv_loader.getDataSet()\n",
    "\n",
    "# set last attribute as class \n",
    "classIndex = instances.numAttributes()-1  \n",
    "instances.setClassIndex(classIndex)\n",
    "\n",
    "# create learner\n",
    "j48 = jp.JClass('weka.classifiers.trees.J48')()\n",
    "j48.setOptions(['-C', '0.25', '-M', '2'])\n",
    "\n",
    "# train model, print it and visualize\n",
    "j48.buildClassifier(instances)\n",
    "print(j48.toString())\n",
    "visualize_J48_tree(j48, width=600, height=500)"
   ]
  },
  {
   "cell_type": "markdown",
   "id": "0fb8ee88-2cb9-4b20-968c-a0e5cc8ae4a8",
   "metadata": {},
   "source": [
    "## Cross validation"
   ]
  },
  {
   "cell_type": "code",
   "execution_count": 3,
   "id": "abc23f81-4adb-4ba4-84af-0c31974aae2e",
   "metadata": {},
   "outputs": [
    {
     "name": "stdout",
     "output_type": "stream",
     "text": [
      "\n",
      "Correctly Classified Instances         143               95.3333 %\n",
      "Incorrectly Classified Instances         7                4.6667 %\n",
      "Kappa statistic                          0.93  \n",
      "Mean absolute error                      0.0392\n",
      "Root mean squared error                  0.1749\n",
      "Relative absolute error                  8.8149 %\n",
      "Root relative squared error             37.1099 %\n",
      "Total Number of Instances              150     \n",
      "\n",
      "=== Confusion Matrix ===\n",
      "\n",
      "  a  b  c   <-- classified as\n",
      " 49  1  0 |  a = Iris-setosa\n",
      "  0 47  3 |  b = Iris-versicolor\n",
      "  0  3 47 |  c = Iris-virginica\n",
      "\n",
      "=== Detailed Accuracy By Class ===\n",
      "\n",
      "                 TP Rate  FP Rate  Precision  Recall   F-Measure  MCC      ROC Area  PRC Area  Class\n",
      "                 0.980    0.000    1.000      0.980    0.990      0.985    0.990     0.987     Iris-setosa\n",
      "                 0.940    0.040    0.922      0.940    0.931      0.896    0.938     0.858     Iris-versicolor\n",
      "                 0.940    0.030    0.940      0.940    0.940      0.910    0.946     0.876     Iris-virginica\n",
      "Weighted Avg.    0.953    0.023    0.954      0.953    0.954      0.930    0.958     0.907     \n",
      "\n"
     ]
    }
   ],
   "source": [
    "from java.lang import StringBuffer\n",
    "from java.util import Random\n",
    "\n",
    "buffer = StringBuffer()\n",
    "out = jp.JClass('weka.classifiers.evaluation.output.prediction.PlainText')()\n",
    "out.setSuppressOutput(True)\n",
    "out.setBuffer(buffer)\n",
    "\n",
    "rnd = Random()\n",
    "cv = jp.JClass('weka.classifiers.Evaluation')(instances)\n",
    "args = jp.JArray(jp.JClass('java.lang.Object'), 1)(1)\n",
    "args[0] = out\n",
    "\n",
    "learner = jp.JClass('weka.classifiers.trees.J48')()\n",
    "learner.setOptions(['-C', '0.25', '-M', '2'])\n",
    "nfolds = 10\n",
    "\n",
    "cv.crossValidateModel(learner, instances, nfolds, rnd, args)\n",
    "print(cv.toSummaryString())\n",
    "print(cv.toMatrixString())\n",
    "print(cv.toClassDetailsString())"
   ]
  },
  {
   "cell_type": "markdown",
   "id": "a89f62b2-8f83-48a6-990f-9c4073921deb",
   "metadata": {},
   "source": [
    "## Weighting instances"
   ]
  },
  {
   "cell_type": "code",
   "execution_count": 4,
   "id": "c7776875-8fcc-4059-949c-619e36229f36",
   "metadata": {},
   "outputs": [],
   "source": [
    "# let's increase the weight of all \"Iris-setosa\" instances to 2.0 instead of default 1.0\n",
    "weighted_instances = jp.JClass('weka.core.converters.ConverterUtils$DataSource')('weka/data/iris.arff').getDataSet()\n",
    "weighted_instances.setClassIndex(instances.numAttributes()-1)\n",
    "\n",
    "for x in weighted_instances:\n",
    "    if x.classAttribute().value(int(x.classValue())) == 'Iris-setosa':\n",
    "        x.setWeight(2.0)"
   ]
  }
 ],
 "metadata": {
  "kernelspec": {
   "display_name": "Python 3 (ipykernel)",
   "language": "python",
   "name": "python3"
  },
  "language_info": {
   "codemirror_mode": {
    "name": "ipython",
    "version": 3
   },
   "file_extension": ".py",
   "mimetype": "text/x-python",
   "name": "python",
   "nbconvert_exporter": "python",
   "pygments_lexer": "ipython3",
   "version": "3.8.10"
  }
 },
 "nbformat": 4,
 "nbformat_minor": 5
}
